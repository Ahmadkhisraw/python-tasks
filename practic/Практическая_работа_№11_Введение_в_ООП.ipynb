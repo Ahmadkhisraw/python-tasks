{
  "cells": [
    {
      "cell_type": "markdown",
      "metadata": {
        "colab_type": "text",
        "id": "view-in-github"
      },
      "source": [
        "<a href=\"https://colab.research.google.com/github/Alexandre77777/python_programming/blob/main/2.%20%D0%9F%D1%80%D0%B0%D0%BA%D1%82%D0%B8%D1%87%D0%B5%D1%81%D0%BA%D0%B8%D0%B5%20%D1%80%D0%B0%D0%B1%D0%BE%D1%82%D1%8B/%D0%9F%D1%80%D0%B0%D0%BA%D1%82%D0%B8%D1%87%D0%B5%D1%81%D0%BA%D0%B0%D1%8F_%D1%80%D0%B0%D0%B1%D0%BE%D1%82%D0%B0_%E2%84%9611_%D0%92%D0%B2%D0%B5%D0%B4%D0%B5%D0%BD%D0%B8%D0%B5_%D0%B2_%D0%9E%D0%9E%D0%9F.ipynb\" target=\"_parent\"><img src=\"https://colab.research.google.com/assets/colab-badge.svg\" alt=\"Open In Colab\"/></a>"
      ]
    },
    {
      "cell_type": "markdown",
      "metadata": {
        "id": "s-EuQCpnWXCn"
      },
      "source": [
        "# **Практическая работа №11. Введение в ООП**\n",
        "\n",
        "\n"
      ]
    },
    {
      "cell_type": "markdown",
      "metadata": {
        "id": "OvDnozzI-g-6"
      },
      "source": [
        "## **Задание 1. Напишите программу с классом Car**\n",
        "* Создайте конструктор класса Car.\n",
        "* Создайте атрибуты класса Car — color (цвет), type (тип), year (год).\n",
        "* Напишите пять методов:\n",
        "> 1. Запуск автомобиля (при его вызове выводится сообщение «Автомобиль заведен»)\n",
        "> 2. Отключение автомобиля (выводит сообщение «Автомобиль заглушен»)\n",
        "> 3. Присвоение автомобилю года выпуска\n",
        "> 4. Присвоение автомобилю типа\n",
        "> 5. Присвоение автомобилю цвета"
      ]
    },
    {
      "cell_type": "code",
      "execution_count": 2,
      "metadata": {
        "id": "xMYBjxjy-hIE"
      },
      "outputs": [
        {
          "name": "stdout",
          "output_type": "stream",
          "text": [
            "Автомобиль заведен\n",
            "Автомобиль заглушен\n",
            "Год выпуска установлен на 2022\n",
            "Тип автомобиля установлен на SUV\n",
            "Цвет автомобиля установлен на Blue\n"
          ]
        }
      ],
      "source": [
        "# Ваш код\n",
        "class Car:\n",
        "    def __init__(self, color, car_type, year):\n",
        "        self.color = color\n",
        "        self.type = car_type\n",
        "        self.year = year\n",
        "        self.is_running = False\n",
        "\n",
        "    def start_engine(self):\n",
        "        if not self.is_running:\n",
        "            print(\"Автомобиль заведен\")\n",
        "            self.is_running = True\n",
        "        else:\n",
        "            print(\"Автомобиль уже заведен\")\n",
        "\n",
        "    def stop_engine(self):\n",
        "        if self.is_running:\n",
        "            print(\"Автомобиль заглушен\")\n",
        "            self.is_running = False\n",
        "        else:\n",
        "            print(\"Автомобиль уже заглушен\")\n",
        "\n",
        "    def set_year(self, new_year):\n",
        "        self.year = new_year\n",
        "        print(f\"Год выпуска установлен на {new_year}\")\n",
        "\n",
        "    def set_type(self, new_type):\n",
        "        self.type = new_type\n",
        "        print(f\"Тип автомобиля установлен на {new_type}\")\n",
        "\n",
        "    def set_color(self, new_color):\n",
        "        self.color = new_color\n",
        "        print(f\"Цвет автомобиля установлен на {new_color}\")\n",
        "\n",
        "my_car = Car(color=\"Red\", car_type=\"Sedan\", year=2020)\n",
        "\n",
        "my_car.start_engine()\n",
        "my_car.stop_engine()\n",
        "my_car.set_year(2022)\n",
        "my_car.set_type(\"SUV\")\n",
        "my_car.set_color(\"Blue\")\n"
      ]
    },
    {
      "cell_type": "markdown",
      "metadata": {
        "id": "TQ5SpdjdbD4D"
      },
      "source": [
        "## **Задание 2. Создайте класс Sphere для представления сферы в трехмерном пространстве**\n"
      ]
    },
    {
      "cell_type": "markdown",
      "metadata": {
        "id": "Q5Ow51wfASZH"
      },
      "source": [
        "Обеспечьте следующие методы класса:\n",
        "\n",
        "1. Конструктор, принимающий 4 действительных числа: радиус, и 3 координаты центра шара. Если конструктор вызывается без аргументов, создать объект сферы с единичным радиусом и центром в начале координат. Если конструктор вызывается с аргументом, создать объект сферы с соответствующим радиусом и центром в начале координат.\n",
        "\n",
        "2. Метод get_volume (), который возвращает действительное число — объем шара, ограниченной текущей сферой.\n",
        "\n",
        "3. Метод get_square (), который возвращает действительное число — площадь внешней поверхности сферы.\n",
        "\n",
        "4. Метод get_radius (), который возвращает действительное число — радиус сферы.\n",
        "\n",
        "5. Метод get_center (), который возвращает тьюпл с 3 действительными числами — координатами центра сферы в том же порядке, в каком они задаются в конструкторе.\n",
        "\n",
        "6. Метод set_radius (r), который принимает 1 аргумент — действительное число, и меняет радиус текущей сферы, ничего не возвращая.\n",
        "\n",
        "7. Метод set_center (x, y, z), который принимает 3 аргумента — действительных числа, и меняет координаты центра сферы, ничего не возвращая. Координаты задаются в том же порядке, что и в конструкторе.\n",
        "\n",
        "8. Метод is_point_inside (x, y, z), который принимает 3 аргумента — действительных числа — координаты некоторой точки в пространстве (в том же порядке, что и в конструкторе), и возвращает логическое значение True или False в зависимости от того, находится эта точка внутри сферы."
      ]
    },
    {
      "cell_type": "code",
      "execution_count": 3,
      "metadata": {
        "id": "xYx3bR2Lbv42"
      },
      "outputs": [
        {
          "name": "stdout",
          "output_type": "stream",
          "text": [
            "Volume: 33.510321638291124\n",
            "Surface Area: 50.26548245743669\n",
            "Radius: 2\n",
            "Center: (1, 1, 1)\n",
            "Is Point Inside: True\n"
          ]
        }
      ],
      "source": [
        "import math\n",
        "\n",
        "class Sphere:\n",
        "    def __init__(self, radius=1.0, center_x=0.0, center_y=0.0, center_z=0.0):\n",
        "        self.radius = radius\n",
        "        self.center = (center_x, center_y, center_z)\n",
        "\n",
        "    def get_volume(self):\n",
        "        return (4 / 3) * math.pi * self.radius ** 3\n",
        "\n",
        "    def get_square(self):\n",
        "        return 4 * math.pi * self.radius ** 2\n",
        "\n",
        "    def get_radius(self):\n",
        "        return self.radius\n",
        "\n",
        "    def get_center(self):\n",
        "        return self.center\n",
        "\n",
        "    def set_radius(self, r):\n",
        "        self.radius = r\n",
        "\n",
        "    def set_center(self, x, y, z):\n",
        "        self.center = (x, y, z)\n",
        "\n",
        "    def is_point_inside(self, x, y, z):\n",
        "        distance_to_center = math.sqrt((x - self.center[0]) ** 2 + (y - self.center[1]) ** 2 + (z - self.center[2]) ** 2)\n",
        "        return distance_to_center <= self.radius\n",
        "\n",
        "\n",
        "my_sphere = Sphere(radius=2, center_x=1, center_y=1, center_z=1)\n",
        "\n",
        "print(\"Volume:\", my_sphere.get_volume())\n",
        "print(\"Surface Area:\", my_sphere.get_square())\n",
        "print(\"Radius:\", my_sphere.get_radius())\n",
        "print(\"Center:\", my_sphere.get_center())\n",
        "\n",
        "my_sphere.set_radius(3)\n",
        "my_sphere.set_center(2, 2, 2)\n",
        "\n",
        "print(\"Is Point Inside:\", my_sphere.is_point_inside(2, 2, 2))\n"
      ]
    },
    {
      "cell_type": "markdown",
      "metadata": {
        "id": "UuJ9K_zAcaY_"
      },
      "source": [
        "## **Задание 3. Создайте класс SuperStr, который наследует функциональность стандартного типа str и содержит 2 новых метода:**"
      ]
    },
    {
      "cell_type": "markdown",
      "metadata": {
        "id": "GX99X81VchPW"
      },
      "source": [
        "1. Метод is_repeatance (s), который принимает 1 аргумент s и возвращает True или False в зависимости от того, может ли текущая строку быть получена целым количеством повторов строки s. Вернуть False, если s не является строкой. Считать, что пустая строка не содержит повторов.\n",
        "\n",
        "2. Метод is_palindrom (), который возвращает True или False в зависимости от того, является ли строка палиндромом. Регистрами символов пренебрегать. Пустую строку считать палиндромом."
      ]
    },
    {
      "cell_type": "code",
      "execution_count": 6,
      "metadata": {
        "id": "LtIAKDWFdEcr"
      },
      "outputs": [],
      "source": [
        "# Ваш код\n",
        "class SuperStr(str):\n",
        "    def is_repeatance(self, s):\n",
        "        if not isinstance(s, str):\n",
        "            return False\n",
        "\n",
        "        if s == '':\n",
        "            return True\n",
        "\n",
        "        repeated = self\n",
        "        while len(repeated) < len(self):\n",
        "            repeated += s\n",
        "\n",
        "        return repeated == self\n",
        "\n",
        "    def is_palindrom(self):\n",
        "        cleaned_str = ''.join(char.lower() for char in self if char.isalnum())\n",
        "        return cleaned_str == cleaned_str[::-1]"
      ]
    },
    {
      "cell_type": "code",
      "execution_count": 7,
      "metadata": {
        "id": "oRO3alwicoNp"
      },
      "outputs": [
        {
          "name": "stdout",
          "output_type": "stream",
          "text": [
            "True\n",
            "True\n",
            "True\n",
            "True\n",
            "False\n",
            "False\n",
            "123123123123\n",
            "123123123123\n",
            "123123123123qwe\n",
            "True\n"
          ]
        }
      ],
      "source": [
        "# Тесты\n",
        "\n",
        "s = SuperStr(\"123123123123\")\n",
        "print(s.is_repeatance(\"123\")) # True\n",
        "print(s.is_repeatance(\"123123\")) # True\n",
        "print(s.is_repeatance(\"123123123123\")) # True\n",
        "print(s.is_repeatance(\"12312\")) # False\n",
        "print(s.is_repeatance(123)) # False\n",
        "print(s.is_palindrom()) # False\n",
        "print(s) # 123123123123 (строка)\n",
        "print(int(s)) # 123123123123 (целое число)\n",
        "print(s + \"qwe\") # 123123123123qwe\n",
        "p = SuperStr(\"123_321\")\n",
        "print(p.is_palindrom()) # True"
      ]
    },
    {
      "cell_type": "markdown",
      "metadata": {
        "id": "m9EGwLY9jZbw"
      },
      "source": [
        "## **Задание 4. В коде ниже представлен класс преподавателей и класс студентов (вы можете взять этот код за основу или написать свой).**"
      ]
    },
    {
      "cell_type": "code",
      "execution_count": null,
      "metadata": {
        "id": "PlqK9m7KrT6e"
      },
      "outputs": [],
      "source": [
        "class Student:\n",
        "    def __init__(self, name, surname, gender):\n",
        "        self.name = name\n",
        "        self.surname = surname\n",
        "        self.gender = gender\n",
        "        self.finished_courses = []\n",
        "        self.courses_in_progress = []\n",
        "        self.grades = {}\n",
        "\n",
        "    def add_courses(self, course_name):\n",
        "        self.finished_courses.append(course_name)\n",
        "\n",
        "\n",
        "class Mentor:\n",
        "    def __init__(self, name, surname):\n",
        "        self.name = name\n",
        "        self.surname = surname\n",
        "        self.courses_attached = []\n",
        "\n",
        "    def rate_hw(self, student, course, grade):\n",
        "        student.grades[course] = [grade]"
      ]
    },
    {
      "cell_type": "code",
      "execution_count": null,
      "metadata": {
        "colab": {
          "base_uri": "https://localhost:8080/"
        },
        "id": "oNc1-dVaw3ee",
        "outputId": "7621e159-5ac4-48a7-8318-886013ba7692"
      },
      "outputs": [
        {
          "name": "stdout",
          "output_type": "stream",
          "text": [
            "Имя студента:  Ruoy\n",
            "Имя преподавателя:  Some\n",
            "Оценки студента по курсам:  {'Python': [10]}\n"
          ]
        }
      ],
      "source": [
        "best_student = Student('Ruoy', 'Eman', 'your_gender')\n",
        "cool_mentor = Mentor('Some', 'Buddy')\n",
        "cool_mentor.rate_hw(best_student, 'Python', 10)\n",
        "\n",
        "print(\"Имя студента: \", best_student.name)\n",
        "print(\"Имя преподавателя: \", cool_mentor.name)\n",
        "print(\"Оценки студента по курсам: \", best_student.grades)"
      ]
    },
    {
      "cell_type": "markdown",
      "metadata": {
        "id": "08FkYxULrxE-"
      },
      "source": [
        "### **4.1. Наследование**"
      ]
    },
    {
      "cell_type": "markdown",
      "metadata": {
        "id": "YNjsCv5ItOii"
      },
      "source": [
        "* Класс Mentor должен стать родительским классом для преподавателей. От него нужно реализовать наследование классов Lecturer (лекторы) и Reviewer (эксперты, проверяющие домашние задания).\n",
        "\n",
        "> Имя, фамилю и список закрепленных курсов логично реализовать на уровне родительского класса."
      ]
    },
    {
      "cell_type": "code",
      "execution_count": 9,
      "metadata": {
        "id": "1quZPRZKtIoc"
      },
      "outputs": [],
      "source": [
        "# Ваш код\n",
        "class Mentor:\n",
        "    def __init__(self, name, surname):\n",
        "        self.name = name\n",
        "        self.surname = surname\n",
        "        self.courses_attached = []\n",
        "\n",
        "    def rate_hw(self, student, course, grade):\n",
        "        student.grades[course] = [grade]\n",
        "\n",
        "\n",
        "class Lecturer(Mentor):\n",
        "    def __init__(self, name, surname):\n",
        "        super().__init__(name, surname)\n",
        "        self.lectures_given = []\n",
        "        \n",
        "    def __str__(self):\n",
        "        return f\"{self.name} {self.surname}\\nСредняя оценка за лекции: {self.calculate_average_grade():.1f}\"\n",
        "\n",
        "    def calculate_average_grade(self):\n",
        "        total_grade = sum(self.lectures_given)\n",
        "        total_lectures = len(self.lectures_given)\n",
        "        return total_grade / total_lectures if total_lectures > 0 else 0\n",
        "\n",
        "    def rate_lecture(self, student, course, grade):\n",
        "        if course in self.courses_attached:\n",
        "            student.grades[course] = [grade]\n",
        "        else:\n",
        "            print(\"Ошибка при выставлении оценки.\")\n",
        "\n",
        "\n",
        "class Reviewer(Mentor):\n",
        "    def __str__(self):\n",
        "        return f\"{self.name} {self.surname}\"\n",
        "\n",
        "    def rate_homework(self, student, course, grade):\n",
        "        if isinstance(student, Student) and course in self.courses_attached:\n",
        "            student.grades[course] = [grade]\n",
        "        else:\n",
        "            print(\"Ошибка при выставлении оценки.\")\n"
      ]
    },
    {
      "cell_type": "markdown",
      "metadata": {
        "id": "oL8kB-uUtH5K"
      },
      "source": [
        "### **4.2. Атрибуты и взаимодействие классов**"
      ]
    },
    {
      "cell_type": "markdown",
      "metadata": {
        "id": "ddcuJFCksWsY"
      },
      "source": [
        "* Реализуйте возможность проставления оценок студентам только Reviewer-ам (реализуйте такой метод).\n",
        "\n",
        "* Реализуйте метод выставления оценок лекторам у класса Student (оценки по 10-балльной шкале, хранятся в атрибуте-словаре у Lecturer, в котором ключи – названия курсов, а значения – списки оценок). Лектор при этом должен быть закреплен за тем курсом, на который записан студент (реализовать проверку)."
      ]
    },
    {
      "cell_type": "code",
      "execution_count": 10,
      "metadata": {
        "id": "U30yyvuirv6H"
      },
      "outputs": [],
      "source": [
        "# Ваш код\n",
        "class Student:\n",
        "    def __init__(self, name, surname, gender):\n",
        "        self.name = name\n",
        "        self.surname = surname\n",
        "        self.gender = gender\n",
        "        self.finished_courses = []\n",
        "        self.courses_in_progress = []\n",
        "        self.grades = {}\n",
        "\n",
        "    def __str__(self):\n",
        "        return (f\"{self.name} {self.surname}\\n\"\n",
        "                f\"Средняя оценка за домашние задания: {self.calculate_average_grade():.1f}\\n\"\n",
        "                f\"Курсы в процессе изучения: {', '.join(self.courses_in_progress)}\\n\"\n",
        "                f\"Завершенные курсы: {', '.join(self.finished_courses)}\")\n",
        "\n",
        "    def calculate_average_grade(self):\n",
        "        total_grade = sum([sum(grades) for grades in self.grades.values()])\n",
        "        total_assignments = sum([len(grades) for grades in self.grades.values()])\n",
        "        return total_grade / total_assignments if total_assignments > 0 else 0\n",
        "\n",
        "\n",
        "def average_hw_grade_by_course(students, course):\n",
        "    total_grade = 0\n",
        "    total_students = 0\n",
        "    for student in students:\n",
        "        if course in student.grades:\n",
        "            total_grade += sum(student.grades[course])\n",
        "            total_students += len(student.grades[course])\n",
        "    return total_grade / total_students if total_students > 0 else 0\n",
        "\n",
        "\n",
        "def average_lecture_grade_by_course(lecturers, course):\n",
        "    total_grade = 0\n",
        "    total_lecturers = 0\n",
        "    for lecturer in lecturers:\n",
        "        if course in lecturer.lectures_given:\n",
        "            total_grade += sum(lecturer.lectures_given[course])\n",
        "            total_lecturers += len(lecturer.lectures_given[course])\n",
        "    return total_grade / total_lecturers if total_lecturers > 0 else 0\n"
      ]
    },
    {
      "cell_type": "markdown",
      "metadata": {
        "id": "i6PrwEBSu39u"
      },
      "source": [
        "### **4.3. Полиморфизм и магические методы**"
      ]
    },
    {
      "cell_type": "markdown",
      "metadata": {
        "id": "GvmtjlnmvF8b"
      },
      "source": [
        "Перегрузите магический метод \\_\\_str__ у всех классов.\n",
        "У проверяющих он должен выводить информацию в следующем виде:\n",
        "\n",
        "\n",
        "\n",
        "```\n",
        "print(some_reviewer)\n",
        "Имя: Some\n",
        "Фамилия: Buddy\n",
        "```\n",
        "\n",
        "У лекторов:\n",
        "\n",
        "\n",
        "\n",
        "```\n",
        "print(some_lecturer)\n",
        "Имя: Some\n",
        "Фамилия: Buddy\n",
        "Средняя оценка за лекции: 9.9\n",
        "```\n",
        "\n",
        "А у студентов так:\n",
        "\n",
        "\n",
        "\n",
        "```\n",
        "print(some_student)\n",
        "Имя: Ruoy\n",
        "Фамилия: Eman\n",
        "Средняя оценка за домашние задания: 9.9\n",
        "Курсы в процессе изучения: Python, Git\n",
        "Завершенные курсы: Введение в программирование\n",
        "```\n",
        "\n",
        "\n",
        "\n"
      ]
    },
    {
      "cell_type": "code",
      "execution_count": null,
      "metadata": {
        "id": "gCJAL_EmwU0b"
      },
      "outputs": [],
      "source": [
        "# Ваш код\n",
        "class Mentor:\n",
        "    def __init__(self, name, surname):\n",
        "        self.name = name\n",
        "        self.surname = surname\n",
        "        self.courses_attached = []\n",
        "\n",
        "    def rate_hw(self, student, course, grade):\n",
        "        student.grades[course] = [grade]\n",
        "    \n",
        "    def __str__(self):\n",
        "        return f\"{self.name} {self.surname}\"\n",
        "\n",
        "\n",
        "class Lecturer(Mentor):\n",
        "    def __init__(self, name, surname):\n",
        "        super().__init__(name, surname)\n",
        "        self.lectures_given = []\n",
        "        \n",
        "    def __str__(self):\n",
        "        return f\"{self.name} {self.surname}\\nСредняя оценка за лекции: {self.calculate_average_grade():.1f}\"\n",
        "\n",
        "    def calculate_average_grade(self):\n",
        "        total_grade = sum(self.lectures_given)\n",
        "        total_lectures = len(self.lectures_given)\n",
        "        return total_grade / total_lectures if total_lectures > 0 else 0\n",
        "\n",
        "    def rate_lecture(self, student, course, grade):\n",
        "        if course in self.courses_attached:\n",
        "            student.grades[course] = [grade]\n",
        "        else:\n",
        "            print(\"Ошибка при выставлении оценки.\")\n",
        "\n",
        "    def __str__(self):\n",
        "        return f\"{self.name} {self.surname}\\nСредняя оценка за лекции: {self.calculate_average_grade():.1f}\"\n",
        "\n",
        "\n",
        "class Reviewer(Mentor):\n",
        "    def __str__(self):\n",
        "        return f\"{self.name} {self.surname}\"\n",
        "\n",
        "    def rate_homework(self, student, course, grade):\n",
        "        if isinstance(student, Student) and course in self.courses_attached:\n",
        "            student.grades[course] = [grade]\n",
        "        else:\n",
        "            print(\"Ошибка при выставлении оценки.\")\n",
        "\n",
        "    def __str__(self):\n",
        "        return f\"{self.name} {self.surname}\"\n"
      ]
    },
    {
      "cell_type": "markdown",
      "metadata": {
        "id": "1DNE4TE3vfYI"
      },
      "source": [
        "**Реализуйте перегрузку других магических методов на Ваш выбор (не менее трёх), из тех, что были изучены на паре, руководствуясь по смыслу контекстом представленных классов (студенты, преподаватели, оценки и т.д.)**"
      ]
    },
    {
      "cell_type": "code",
      "execution_count": 13,
      "metadata": {
        "id": "WNCf9PPMu4Gv"
      },
      "outputs": [],
      "source": [
        "class Mentor:\n",
        "    def __init__(self, name, surname):\n",
        "        self.name = name\n",
        "        self.surname = surname\n",
        "        self.courses_attached = []\n",
        "\n",
        "    def rate_hw(self, student, course, grade):\n",
        "        student.grades[course] = [grade]\n",
        "\n",
        "    def __eq__(self, other):\n",
        "        return self.name == other.name and self.surname == other.surname\n",
        "\n",
        "    def __lt__(self, other):\n",
        "        return len(self.courses_attached) < len(other.courses_attached)\n",
        "\n",
        "    def __len__(self):\n",
        "        return len(self.courses_attached)\n",
        "\n",
        "\n",
        "class Student:\n",
        "    def __init__(self, name, surname, gender):\n",
        "        self.name = name\n",
        "        self.surname = surname\n",
        "        self.gender = gender\n",
        "        self.finished_courses = []\n",
        "        self.courses_in_progress = []\n",
        "        self.grades = {}\n",
        "\n",
        "    def __eq__(self, other):\n",
        "        return self.name == other.name and self.surname == other.surname\n",
        "\n",
        "    def __str__(self):\n",
        "        return f\"{self.name} {self.surname}\"\n",
        "\n",
        "    def __add__(self, other):\n",
        "        combined_student = Student(f\"{self.name} & {other.name}\", f\"{self.surname} & {other.surname}\", \"Combined\")\n",
        "        combined_student.courses_in_progress = list(set(self.courses_in_progress + other.courses_in_progress))\n",
        "        combined_student.finished_courses = list(set(self.finished_courses + other.finished_courses))\n",
        "        combined_student.grades = {**self.grades, **other.grades}\n",
        "        return combined_student\n"
      ]
    },
    {
      "cell_type": "markdown",
      "metadata": {
        "id": "X8xvLNT6u4Nn"
      },
      "source": [
        "### **4.4. Тестирование**\n",
        "\n",
        "Создайте по 2 экземпляра каждого класса, вызовите все созданные методы, а также реализуйте две функции:\n",
        "\n",
        "* для подсчета средней оценки за домашние задания по всем студентам в рамках конкретного курса (в качестве аргументов принимаем список студентов и название курса);\n",
        "* для подсчета средней оценки за лекции всех лекторов в рамках курса (в качестве аргумента принимаем список лекторов и название курса)."
      ]
    },
    {
      "cell_type": "code",
      "execution_count": 16,
      "metadata": {
        "id": "uh8n08fdu4V_"
      },
      "outputs": [
        {
          "name": "stdout",
          "output_type": "stream",
          "text": [
            "John Doe\n",
            "Alice Smith\n",
            "Professor Johnson\n",
            "Средняя оценка за лекции: 0.0\n",
            "Dr. Williams\n",
            "Средняя оценка за лекции: 0.0\n",
            "Mr. Brown\n",
            "Ms. Taylor\n",
            "\n",
            "Средняя оценка за домашние задания по курсу Python: 8.5\n",
            "Средняя оценка за лекции по курсу Git: 0.0\n"
          ]
        }
      ],
      "source": [
        "# Ваш код\n",
        "# (предыдущий код)\n",
        "\n",
        "# Тестирование\n",
        "student1 = Student(\"John\", \"Doe\", \"Male\")\n",
        "student2 = Student(\"Alice\", \"Smith\", \"Female\")\n",
        "lecturer1 = Lecturer(\"Professor\", \"Johnson\")\n",
        "lecturer2 = Lecturer(\"Dr.\", \"Williams\")\n",
        "reviewer1 = Reviewer(\"Mr.\", \"Brown\")\n",
        "reviewer2 = Reviewer(\"Ms.\", \"Taylor\")\n",
        "\n",
        "student1.courses_in_progress = [\"Python\"]\n",
        "student2.courses_in_progress = [\"Python\"]\n",
        "student1.finished_courses = [\"Git\"]\n",
        "student2.finished_courses = [\"Git\"]\n",
        "lecturer1.courses_attached = [\"Python\"]\n",
        "lecturer2.courses_attached = [\"Git\"]\n",
        "reviewer1.courses_attached = [\"Python\"]\n",
        "reviewer2.courses_attached = [\"Git\"]\n",
        "\n",
        "reviewer1.rate_homework(student1, \"Python\", 9)\n",
        "reviewer1.rate_homework(student2, \"Python\", 8)\n",
        "reviewer2.rate_homework(student1, \"Git\", 10)\n",
        "reviewer2.rate_homework(student2, \"Git\", 7)\n",
        "\n",
        "lecturer1.rate_lecture(student1, \"Python\", 9)\n",
        "lecturer1.rate_lecture(student2, \"Python\", 8)\n",
        "lecturer2.rate_lecture(student1, \"Git\", 10)\n",
        "lecturer2.rate_lecture(student2, \"Git\", 7)\n",
        "\n",
        "print(student1)\n",
        "print(student2)\n",
        "print(lecturer1)\n",
        "print(lecturer2)\n",
        "print(reviewer1)\n",
        "print(reviewer2)\n",
        "\n",
        "avg_hw_grade_python = average_hw_grade_by_course([student1, student2], \"Python\")\n",
        "print(f\"\\nСредняя оценка за домашние задания по курсу Python: {avg_hw_grade_python:.1f}\")\n",
        "\n",
        "avg_lecture_grade_git = average_lecture_grade_by_course([lecturer1, lecturer2], \"Git\")\n",
        "print(f\"Средняя оценка за лекции по курсу Git: {avg_lecture_grade_git:.1f}\")\n"
      ]
    }
  ],
  "metadata": {
    "colab": {
      "authorship_tag": "ABX9TyNrU9LDHw/tQOWb3nwrS8dm",
      "include_colab_link": true,
      "provenance": []
    },
    "kernelspec": {
      "display_name": "Python 3",
      "name": "python3"
    },
    "language_info": {
      "codemirror_mode": {
        "name": "ipython",
        "version": 3
      },
      "file_extension": ".py",
      "mimetype": "text/x-python",
      "name": "python",
      "nbconvert_exporter": "python",
      "pygments_lexer": "ipython3",
      "version": "3.8.18"
    }
  },
  "nbformat": 4,
  "nbformat_minor": 0
}
